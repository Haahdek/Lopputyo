{
 "cells": [
  {
   "cell_type": "code",
   "execution_count": 2,
   "id": "b6b207bc-0080-47bb-ad0a-cdeeae1915ed",
   "metadata": {},
   "outputs": [
    {
     "name": "stdout",
     "output_type": "stream",
     "text": [
      "Collecting git+https://github.com/kipe/nordpool.git\n",
      "  Cloning https://github.com/kipe/nordpool.git to /tmp/pip-req-build-kl8vcw_x\n",
      "  Running command git clone -q https://github.com/kipe/nordpool.git /tmp/pip-req-build-kl8vcw_x\n",
      "  Resolved https://github.com/kipe/nordpool.git to commit 89980370bed9c8618432c694c0974ee9945f076d\n",
      "Requirement already satisfied: python-dateutil>=2.6.1 in /srv/conda/envs/notebook/lib/python3.7/site-packages (from nordpool==0.3.2) (2.8.2)\n",
      "Requirement already satisfied: pytz>=2017.2 in /srv/conda/envs/notebook/lib/python3.7/site-packages (from nordpool==0.3.2) (2021.3)\n",
      "Requirement already satisfied: requests>=2.18.4 in /srv/conda/envs/notebook/lib/python3.7/site-packages (from nordpool==0.3.2) (2.26.0)\n",
      "Requirement already satisfied: six>=1.5 in /srv/conda/envs/notebook/lib/python3.7/site-packages (from python-dateutil>=2.6.1->nordpool==0.3.2) (1.16.0)\n",
      "Requirement already satisfied: charset-normalizer~=2.0.0 in /srv/conda/envs/notebook/lib/python3.7/site-packages (from requests>=2.18.4->nordpool==0.3.2) (2.0.0)\n",
      "Requirement already satisfied: certifi>=2017.4.17 in /srv/conda/envs/notebook/lib/python3.7/site-packages (from requests>=2.18.4->nordpool==0.3.2) (2021.10.8)\n",
      "Requirement already satisfied: urllib3<1.27,>=1.21.1 in /srv/conda/envs/notebook/lib/python3.7/site-packages (from requests>=2.18.4->nordpool==0.3.2) (1.26.7)\n",
      "Requirement already satisfied: idna<4,>=2.5 in /srv/conda/envs/notebook/lib/python3.7/site-packages (from requests>=2.18.4->nordpool==0.3.2) (3.1)\n",
      "Building wheels for collected packages: nordpool\n",
      "  Building wheel for nordpool (setup.py) ... \u001b[?25ldone\n",
      "\u001b[?25h  Created wheel for nordpool: filename=nordpool-0.3.2-py3-none-any.whl size=6514 sha256=c8eccf6027c4f7530bb47c9284583dce23edf43b24ece23d31b8315e53c89917\n",
      "  Stored in directory: /tmp/pip-ephem-wheel-cache-wi54d_ja/wheels/93/04/cc/76350c29bb497959d3e52da4931870247ce6d2a9b61be5450d\n",
      "Successfully built nordpool\n",
      "Installing collected packages: nordpool\n",
      "Successfully installed nordpool-0.3.2\n",
      "Note: you may need to restart the kernel to use updated packages.\n"
     ]
    }
   ],
   "source": [
    "pip install git+https://github.com/kipe/nordpool.git\n"
   ]
  },
  {
   "cell_type": "code",
   "execution_count": 3,
   "id": "a00c7453-6d01-4623-969b-8a475258fac4",
   "metadata": {},
   "outputs": [
    {
     "name": "stdout",
     "output_type": "stream",
     "text": [
      "Collecting git+https://github.com/kipe/nordpool.git\n",
      "  Cloning https://github.com/kipe/nordpool.git to /tmp/pip-req-build-hu7vifjk\n",
      "  Running command git clone -q https://github.com/kipe/nordpool.git /tmp/pip-req-build-hu7vifjk\n",
      "  Resolved https://github.com/kipe/nordpool.git to commit 89980370bed9c8618432c694c0974ee9945f076d\n",
      "Requirement already satisfied: python-dateutil>=2.6.1 in /srv/conda/envs/notebook/lib/python3.7/site-packages (from nordpool==0.3.2) (2.8.2)\n",
      "Requirement already satisfied: pytz>=2017.2 in /srv/conda/envs/notebook/lib/python3.7/site-packages (from nordpool==0.3.2) (2021.3)\n",
      "Requirement already satisfied: requests>=2.18.4 in /srv/conda/envs/notebook/lib/python3.7/site-packages (from nordpool==0.3.2) (2.26.0)\n",
      "Requirement already satisfied: six>=1.5 in /srv/conda/envs/notebook/lib/python3.7/site-packages (from python-dateutil>=2.6.1->nordpool==0.3.2) (1.16.0)\n",
      "Requirement already satisfied: urllib3<1.27,>=1.21.1 in /srv/conda/envs/notebook/lib/python3.7/site-packages (from requests>=2.18.4->nordpool==0.3.2) (1.26.7)\n",
      "Requirement already satisfied: charset-normalizer~=2.0.0 in /srv/conda/envs/notebook/lib/python3.7/site-packages (from requests>=2.18.4->nordpool==0.3.2) (2.0.0)\n",
      "Requirement already satisfied: idna<4,>=2.5 in /srv/conda/envs/notebook/lib/python3.7/site-packages (from requests>=2.18.4->nordpool==0.3.2) (3.1)\n",
      "Requirement already satisfied: certifi>=2017.4.17 in /srv/conda/envs/notebook/lib/python3.7/site-packages (from requests>=2.18.4->nordpool==0.3.2) (2021.10.8)\n",
      "Note: you may need to restart the kernel to use updated packages.\n"
     ]
    }
   ],
   "source": [
    "pip install -U git+https://github.com/kipe/nordpool.git\n"
   ]
  },
  {
   "cell_type": "code",
   "execution_count": 4,
   "id": "1d0e8c77-0658-4f2e-9127-b88e501e41a9",
   "metadata": {},
   "outputs": [
    {
     "name": "stdout",
     "output_type": "stream",
     "text": [
      "Collecting matplotlib==3.2.1\n",
      "  Downloading matplotlib-3.2.1-cp37-cp37m-manylinux1_x86_64.whl (12.4 MB)\n",
      "\u001b[K     |████████████████████████████████| 12.4 MB 4.5 MB/s eta 0:00:01\n",
      "\u001b[?25hCollecting numpy==1.18.5\n",
      "  Downloading numpy-1.18.5-cp37-cp37m-manylinux1_x86_64.whl (20.1 MB)\n",
      "\u001b[K     |████████████████████████████████| 20.1 MB 61.8 MB/s eta 0:00:01�████▌                     | 6.6 MB 61.8 MB/s eta 0:00:01\n",
      "\u001b[?25hCollecting pandas==1.0.4\n",
      "  Downloading pandas-1.0.4-cp37-cp37m-manylinux1_x86_64.whl (10.1 MB)\n",
      "\u001b[K     |████████████████████████████████| 10.1 MB 20.2 MB/s eta 0:00:01\n",
      "\u001b[?25hRequirement already satisfied: pyparsing!=2.0.4,!=2.1.2,!=2.1.6,>=2.0.1 in /srv/conda/envs/notebook/lib/python3.7/site-packages (from matplotlib==3.2.1->-r requirements.txt (line 7)) (2.4.7)\n",
      "Requirement already satisfied: python-dateutil>=2.1 in /srv/conda/envs/notebook/lib/python3.7/site-packages (from matplotlib==3.2.1->-r requirements.txt (line 7)) (2.8.2)\n",
      "Requirement already satisfied: kiwisolver>=1.0.1 in /srv/conda/envs/notebook/lib/python3.7/site-packages (from matplotlib==3.2.1->-r requirements.txt (line 7)) (1.3.2)\n",
      "Requirement already satisfied: cycler>=0.10 in /srv/conda/envs/notebook/lib/python3.7/site-packages (from matplotlib==3.2.1->-r requirements.txt (line 7)) (0.10.0)\n",
      "Requirement already satisfied: pytz>=2017.2 in /srv/conda/envs/notebook/lib/python3.7/site-packages (from pandas==1.0.4->-r requirements.txt (line 9)) (2021.3)\n",
      "Requirement already satisfied: six in /srv/conda/envs/notebook/lib/python3.7/site-packages (from cycler>=0.10->matplotlib==3.2.1->-r requirements.txt (line 7)) (1.16.0)\n",
      "Installing collected packages: numpy, pandas, matplotlib\n",
      "  Attempting uninstall: numpy\n",
      "    Found existing installation: numpy 1.21.2\n",
      "    Uninstalling numpy-1.21.2:\n",
      "      Successfully uninstalled numpy-1.21.2\n",
      "  Attempting uninstall: pandas\n",
      "    Found existing installation: pandas 1.3.3\n",
      "    Uninstalling pandas-1.3.3:\n",
      "      Successfully uninstalled pandas-1.3.3\n",
      "  Attempting uninstall: matplotlib\n",
      "    Found existing installation: matplotlib 3.1.3\n",
      "    Uninstalling matplotlib-3.1.3:\n",
      "      Successfully uninstalled matplotlib-3.1.3\n",
      "Successfully installed matplotlib-3.2.1 numpy-1.18.5 pandas-1.0.4\n",
      "Note: you may need to restart the kernel to use updated packages.\n"
     ]
    }
   ],
   "source": [
    "pip install -r requirements.txt"
   ]
  },
  {
   "cell_type": "code",
   "execution_count": 5,
   "id": "85d69108-e4e9-43c8-89f5-cdb94c5f1959",
   "metadata": {},
   "outputs": [],
   "source": [
    "#Import libraries\n",
    "import pandas as pd #https://pandas.pydata.org/\n",
    "import matplotlib.pyplot as plt #https://matplotlib.org/\n",
    "import matplotlib.dates as mdates #https://matplotlib.org/"
   ]
  },
  {
   "cell_type": "code",
   "execution_count": 21,
   "id": "ae975bd5-6eab-47b7-8674-13ece77d3132",
   "metadata": {},
   "outputs": [
    {
     "name": "stdout",
     "output_type": "stream",
     "text": [
      "{'areas': {'FI': {'Average': 53.31,\n",
      "                  'Max': 79.13,\n",
      "                  'Min': 14.98,\n",
      "                  'Off-peak 1': 53.63,\n",
      "                  'Off-peak 2': 21.43,\n",
      "                  'Peak': 63.7,\n",
      "                  'values': [{'end': datetime.datetime(2021, 10, 30, 23, 0, tzinfo=<UTC>),\n",
      "                              'start': datetime.datetime(2021, 10, 30, 22, 0, tzinfo=<UTC>),\n",
      "                              'value': 26.01},\n",
      "                             {'end': datetime.datetime(2021, 10, 31, 1, 0, tzinfo=<UTC>),\n",
      "                              'start': datetime.datetime(2021, 10, 30, 23, 0, tzinfo=<UTC>),\n",
      "                              'value': 49.81},\n",
      "                             {'end': datetime.datetime(2021, 10, 31, 2, 0, tzinfo=<UTC>),\n",
      "                              'start': datetime.datetime(2021, 10, 31, 1, 0, tzinfo=<UTC>),\n",
      "                              'value': 60.06},\n",
      "                             {'end': datetime.datetime(2021, 10, 31, 2, 0, tzinfo=<UTC>),\n",
      "                              'start': datetime.datetime(2021, 10, 31, 1, 0, tzinfo=<UTC>),\n",
      "                              'value': 60.03},\n",
      "                             {'end': datetime.datetime(2021, 10, 31, 3, 0, tzinfo=<UTC>),\n",
      "                              'start': datetime.datetime(2021, 10, 31, 2, 0, tzinfo=<UTC>),\n",
      "                              'value': 57.11},\n",
      "                             {'end': datetime.datetime(2021, 10, 31, 4, 0, tzinfo=<UTC>),\n",
      "                              'start': datetime.datetime(2021, 10, 31, 3, 0, tzinfo=<UTC>),\n",
      "                              'value': 58.65},\n",
      "                             {'end': datetime.datetime(2021, 10, 31, 5, 0, tzinfo=<UTC>),\n",
      "                              'start': datetime.datetime(2021, 10, 31, 4, 0, tzinfo=<UTC>),\n",
      "                              'value': 56.0},\n",
      "                             {'end': datetime.datetime(2021, 10, 31, 6, 0, tzinfo=<UTC>),\n",
      "                              'start': datetime.datetime(2021, 10, 31, 5, 0, tzinfo=<UTC>),\n",
      "                              'value': 54.73},\n",
      "                             {'end': datetime.datetime(2021, 10, 31, 7, 0, tzinfo=<UTC>),\n",
      "                              'start': datetime.datetime(2021, 10, 31, 6, 0, tzinfo=<UTC>),\n",
      "                              'value': 60.24},\n",
      "                             {'end': datetime.datetime(2021, 10, 31, 8, 0, tzinfo=<UTC>),\n",
      "                              'start': datetime.datetime(2021, 10, 31, 7, 0, tzinfo=<UTC>),\n",
      "                              'value': 43.8},\n",
      "                             {'end': datetime.datetime(2021, 10, 31, 9, 0, tzinfo=<UTC>),\n",
      "                              'start': datetime.datetime(2021, 10, 31, 8, 0, tzinfo=<UTC>),\n",
      "                              'value': 69.99},\n",
      "                             {'end': datetime.datetime(2021, 10, 31, 10, 0, tzinfo=<UTC>),\n",
      "                              'start': datetime.datetime(2021, 10, 31, 9, 0, tzinfo=<UTC>),\n",
      "                              'value': 64.99},\n",
      "                             {'end': datetime.datetime(2021, 10, 31, 11, 0, tzinfo=<UTC>),\n",
      "                              'start': datetime.datetime(2021, 10, 31, 10, 0, tzinfo=<UTC>),\n",
      "                              'value': 64.91},\n",
      "                             {'end': datetime.datetime(2021, 10, 31, 12, 0, tzinfo=<UTC>),\n",
      "                              'start': datetime.datetime(2021, 10, 31, 11, 0, tzinfo=<UTC>),\n",
      "                              'value': 61.66},\n",
      "                             {'end': datetime.datetime(2021, 10, 31, 13, 0, tzinfo=<UTC>),\n",
      "                              'start': datetime.datetime(2021, 10, 31, 12, 0, tzinfo=<UTC>),\n",
      "                              'value': 56.12},\n",
      "                             {'end': datetime.datetime(2021, 10, 31, 14, 0, tzinfo=<UTC>),\n",
      "                              'start': datetime.datetime(2021, 10, 31, 13, 0, tzinfo=<UTC>),\n",
      "                              'value': 56.15},\n",
      "                             {'end': datetime.datetime(2021, 10, 31, 15, 0, tzinfo=<UTC>),\n",
      "                              'start': datetime.datetime(2021, 10, 31, 14, 0, tzinfo=<UTC>),\n",
      "                              'value': 63.1},\n",
      "                             {'end': datetime.datetime(2021, 10, 31, 16, 0, tzinfo=<UTC>),\n",
      "                              'start': datetime.datetime(2021, 10, 31, 15, 0, tzinfo=<UTC>),\n",
      "                              'value': 69.92},\n",
      "                             {'end': datetime.datetime(2021, 10, 31, 17, 0, tzinfo=<UTC>),\n",
      "                              'start': datetime.datetime(2021, 10, 31, 16, 0, tzinfo=<UTC>),\n",
      "                              'value': 79.13},\n",
      "                             {'end': datetime.datetime(2021, 10, 31, 18, 0, tzinfo=<UTC>),\n",
      "                              'start': datetime.datetime(2021, 10, 31, 17, 0, tzinfo=<UTC>),\n",
      "                              'value': 74.54},\n",
      "                             {'end': datetime.datetime(2021, 10, 31, 19, 0, tzinfo=<UTC>),\n",
      "                              'start': datetime.datetime(2021, 10, 31, 18, 0, tzinfo=<UTC>),\n",
      "                              'value': 60.06},\n",
      "                             {'end': datetime.datetime(2021, 10, 31, 20, 0, tzinfo=<UTC>),\n",
      "                              'start': datetime.datetime(2021, 10, 31, 19, 0, tzinfo=<UTC>),\n",
      "                              'value': 36.25},\n",
      "                             {'end': datetime.datetime(2021, 10, 31, 21, 0, tzinfo=<UTC>),\n",
      "                              'start': datetime.datetime(2021, 10, 31, 20, 0, tzinfo=<UTC>),\n",
      "                              'value': 17.95},\n",
      "                             {'end': datetime.datetime(2021, 10, 31, 22, 0, tzinfo=<UTC>),\n",
      "                              'start': datetime.datetime(2021, 10, 31, 21, 0, tzinfo=<UTC>),\n",
      "                              'value': 16.54},\n",
      "                             {'end': datetime.datetime(2021, 10, 31, 23, 0, tzinfo=<UTC>),\n",
      "                              'start': datetime.datetime(2021, 10, 31, 22, 0, tzinfo=<UTC>),\n",
      "                              'value': 14.98}]}},\n",
      " 'currency': 'EUR',\n",
      " 'end': datetime.datetime(2021, 10, 31, 23, 0, tzinfo=<UTC>),\n",
      " 'start': datetime.datetime(2021, 10, 30, 22, 0, tzinfo=<UTC>),\n",
      " 'updated': datetime.datetime(2021, 10, 30, 10, 46, 23, 55000, tzinfo=<UTC>)}\n"
     ]
    }
   ],
   "source": [
    "# Import library for fetching Elspot data\n",
    "from nordpool import elspot, elbas\n",
    "from pprint import pprint\n",
    "\n",
    "# Initialize class for fetching Elspot prices\n",
    "prices_spot = elspot.Prices()\n",
    "\n",
    "# Fetch hourly Elspot prices for Finland and print the resulting dictionary\n",
    "pprint(prices_spot.hourly(areas=['FI']))"
   ]
  },
  {
   "cell_type": "code",
   "execution_count": 26,
   "id": "6c4ebe46-0d77-4165-a855-c99a879be31b",
   "metadata": {},
   "outputs": [
    {
     "ename": "SyntaxError",
     "evalue": "unexpected EOF while parsing (<ipython-input-26-39f5f7ba3cfc>, line 2)",
     "output_type": "error",
     "traceback": [
      "\u001b[0;36m  File \u001b[0;32m\"<ipython-input-26-39f5f7ba3cfc>\"\u001b[0;36m, line \u001b[0;32m2\u001b[0m\n\u001b[0;31m    plt.plot(prices_spot.hourly(areas=['FI'])(values=['value'])\u001b[0m\n\u001b[0m                                                               ^\u001b[0m\n\u001b[0;31mSyntaxError\u001b[0m\u001b[0;31m:\u001b[0m unexpected EOF while parsing\n"
     ]
    }
   ],
   "source": [
    "plt.figure(figsize=(24,6)) \n",
    "plt.plot(prices_spot.hourly(areas=['FI'])(values=['value'])"
   ]
  },
  {
   "cell_type": "code",
   "execution_count": 43,
   "id": "9acc797e-0d96-4e6a-8d8e-d8b3374d3aef",
   "metadata": {},
   "outputs": [
    {
     "ename": "TypeError",
     "evalue": "list indices must be integers or slices, not tuple",
     "output_type": "error",
     "traceback": [
      "\u001b[0;31m---------------------------------------------------------------------------\u001b[0m",
      "\u001b[0;31mTypeError\u001b[0m                                 Traceback (most recent call last)",
      "\u001b[0;32m<ipython-input-43-723a90a5ecbd>\u001b[0m in \u001b[0;36m<module>\u001b[0;34m\u001b[0m\n\u001b[0;32m----> 1\u001b[0;31m \u001b[0mpprint\u001b[0m\u001b[0;34m(\u001b[0m\u001b[0mprices_spot\u001b[0m\u001b[0;34m.\u001b[0m\u001b[0mhourly\u001b[0m\u001b[0;34m(\u001b[0m\u001b[0mareas\u001b[0m\u001b[0;34m=\u001b[0m\u001b[0;34m[\u001b[0m\u001b[0;34m'FI'\u001b[0m\u001b[0;34m]\u001b[0m\u001b[0;34m[\u001b[0m\u001b[0;36m1\u001b[0m\u001b[0;34m,\u001b[0m\u001b[0;36m2\u001b[0m\u001b[0;34m]\u001b[0m\u001b[0;34m)\u001b[0m\u001b[0;34m)\u001b[0m\u001b[0;34m\u001b[0m\u001b[0;34m\u001b[0m\u001b[0m\n\u001b[0m",
      "\u001b[0;31mTypeError\u001b[0m: list indices must be integers or slices, not tuple"
     ]
    }
   ],
   "source": [
    "pprint(prices_spot.hourly(areas=['FI'][1,2]))"
   ]
  },
  {
   "cell_type": "code",
   "execution_count": null,
   "id": "382575de-0eeb-47ca-a77e-24195b780ea4",
   "metadata": {},
   "outputs": [],
   "source": []
  }
 ],
 "metadata": {
  "kernelspec": {
   "display_name": "Python 3",
   "language": "python",
   "name": "python3"
  },
  "language_info": {
   "codemirror_mode": {
    "name": "ipython",
    "version": 3
   },
   "file_extension": ".py",
   "mimetype": "text/x-python",
   "name": "python",
   "nbconvert_exporter": "python",
   "pygments_lexer": "ipython3",
   "version": "3.7.8"
  }
 },
 "nbformat": 4,
 "nbformat_minor": 5
}
